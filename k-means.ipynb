{
 "cells": [
  {
   "cell_type": "code",
   "execution_count": 3,
   "id": "3375b398",
   "metadata": {},
   "outputs": [],
   "source": [
    "import numpy as np\n",
    "import pandas as pd\n",
    "import matplotlib.pyplot as plt\n",
    "import seaborn as sns\n",
    "from sklearn.cluster import KMeans\n",
    "from sklearn.metrics import silhouette_score\n",
    "from sklearn import datasets\n",
    "from sklearn.preprocessing import StandardScaler\n",
    "import warnings\n",
    "warnings.filterwarnings(\"ignore\")"
   ]
  },
  {
   "cell_type": "code",
   "execution_count": 10,
   "id": "e2132b9d",
   "metadata": {},
   "outputs": [
    {
     "data": {
      "text/plain": [
       "array([[  2.00651759,  -3.37159145],\n",
       "       [  3.00810412,  -1.44164854],\n",
       "       [  5.9571473 ,  -0.17770022],\n",
       "       [ -6.40144065,   0.42694316],\n",
       "       [  1.52893147,   3.18947458],\n",
       "       [  3.28548972,   0.31423022],\n",
       "       [ -7.5565301 ,   1.03631956],\n",
       "       [  0.7577223 ,  -3.37932195],\n",
       "       [  5.10128697,  -8.6920901 ],\n",
       "       [ -4.5758849 ,  -0.16766255],\n",
       "       [  7.12544485,  -7.29452168],\n",
       "       [ -3.71412849,   1.80895371],\n",
       "       [  3.58773594,  -0.86307743],\n",
       "       [  1.43377126,   0.30000059],\n",
       "       [  2.45243849,   0.52630647],\n",
       "       [  3.03920562,  -5.13807541],\n",
       "       [  8.60812769,  -2.99513457],\n",
       "       [  0.73441262,  -0.77327809],\n",
       "       [ -3.86923149,   2.62044227],\n",
       "       [  6.69053193,  -3.2152007 ],\n",
       "       [ -4.61766433,  -0.6545743 ],\n",
       "       [  3.49876499,  -2.05568716],\n",
       "       [  5.42590971,  -4.6142837 ],\n",
       "       [  9.5478309 ,  -0.39471081],\n",
       "       [  6.16332237,  -2.9029279 ],\n",
       "       [  7.38128649,  -6.17160301],\n",
       "       [ -0.48849183,  -2.65853043],\n",
       "       [  2.06244679,  -4.53766297],\n",
       "       [  7.86709893,  -5.44345654],\n",
       "       [  4.10637521,  -2.31509885],\n",
       "       [  0.21458246,  -2.80613618],\n",
       "       [ -5.79695479,  -0.57843059],\n",
       "       [  7.01791837,  -3.95130816],\n",
       "       [  2.4197572 ,   0.6892045 ],\n",
       "       [ -2.83231562,  -2.87520088],\n",
       "       [  8.07465083,  -5.85332515],\n",
       "       [  1.91435583,  -4.09812631],\n",
       "       [  1.84918139,  -3.39257522],\n",
       "       [  0.58895984,   2.91911194],\n",
       "       [ -9.34566534,  -4.13509342],\n",
       "       [  8.17060363,  -1.89659369],\n",
       "       [  4.83087655,   0.71647088],\n",
       "       [  7.62313402,   0.33232592],\n",
       "       [  3.0717913 ,  -0.5477313 ],\n",
       "       [ -5.38145288,   9.16251536],\n",
       "       [  5.23383878,  -5.82800411],\n",
       "       [  2.98593649,  -2.76924222],\n",
       "       [  9.99569144,   1.73644844],\n",
       "       [  8.03070518,  -6.03419379],\n",
       "       [  4.36556311,   1.1483649 ],\n",
       "       [  1.02685276,  -2.61947564],\n",
       "       [ -7.84290968,  -2.75409654],\n",
       "       [  9.66894545,  -3.82499992],\n",
       "       [ -3.82927773,   0.47873633],\n",
       "       [ -1.80234182,  -3.1575398 ],\n",
       "       [ -8.79977908,  -2.62154603],\n",
       "       [  6.83410992,   1.65506719],\n",
       "       [  0.79846826,  -3.96565051],\n",
       "       [  3.92620671,  -0.86679672],\n",
       "       [  1.6756687 ,  -1.37482018],\n",
       "       [  1.91511325,  -7.61165191],\n",
       "       [  0.37064907,  -7.13388088],\n",
       "       [  1.18674967,  -7.30233186],\n",
       "       [  4.42723032,  -1.03809297],\n",
       "       [  5.5431905 ,  -0.96882012],\n",
       "       [ -1.67551285,   0.63256145],\n",
       "       [  3.4376318 ,  -1.23701212],\n",
       "       [  2.85440928,  -2.69924718],\n",
       "       [  4.9727354 ,  -5.3199485 ],\n",
       "       [  5.88811146,   2.8681225 ],\n",
       "       [ -4.26431256,   0.14916366],\n",
       "       [ -1.27289554,  -1.98502738],\n",
       "       [  4.35196871,   0.34918109],\n",
       "       [ -2.62365171,   0.49185288],\n",
       "       [ -4.97569202,   0.94388336],\n",
       "       [  6.37882629,   0.5487237 ],\n",
       "       [  2.82012711,  -4.62379466],\n",
       "       [  1.75602934,   4.11741439],\n",
       "       [ -0.82235349,  -1.29661202],\n",
       "       [  1.62571972,   0.22273057],\n",
       "       [ -6.53992541,   1.41123517],\n",
       "       [ -4.7755536 ,  -1.6530512 ],\n",
       "       [  2.70843332,  -5.47167931],\n",
       "       [  8.72459233,  -6.47188582],\n",
       "       [ -3.83853433,   1.34336687],\n",
       "       [ -4.35448454,   5.07410115],\n",
       "       [  7.09244895,  -7.76243144],\n",
       "       [  2.14079157,  -5.24035409],\n",
       "       [  3.86166226,  -4.18332245],\n",
       "       [  4.42314479,  -9.39764651],\n",
       "       [  1.05563975,   0.3617667 ],\n",
       "       [ -0.15828966,   1.90880306],\n",
       "       [  3.22643044, -11.97333334],\n",
       "       [  9.18549238,  -4.19916789],\n",
       "       [ -6.12206008,   1.42039165],\n",
       "       [  1.80443475,  -2.09134096],\n",
       "       [  3.98962965,   3.60112696],\n",
       "       [ -6.97173678,  -6.00560478],\n",
       "       [ -5.40710193,   0.49289474],\n",
       "       [  3.17097217,  -5.7955105 ],\n",
       "       [ -2.74010547,   0.05347096],\n",
       "       [ -2.99881057,   2.04274924],\n",
       "       [  4.78104975,  -0.04948473],\n",
       "       [  5.69503411,  -9.71640511],\n",
       "       [ -0.33992007,   3.32270694],\n",
       "       [ -9.49204054,   2.02577068],\n",
       "       [ -4.91412012,   0.67947151],\n",
       "       [  0.15927542,  -5.19152031],\n",
       "       [  4.7936317 ,  -7.92444332],\n",
       "       [ -1.90914225,  -1.4179638 ],\n",
       "       [  8.49700305,  -2.05711579],\n",
       "       [  3.99334269,   2.08279459],\n",
       "       [ -6.21888418,  -2.86793081],\n",
       "       [  4.8605036 ,  -4.30974716],\n",
       "       [ -0.80397465,  -4.64077981],\n",
       "       [ 10.50838819,  -3.14170486],\n",
       "       [ -1.62575037,   0.03922158],\n",
       "       [  2.75326482,  -0.85932204],\n",
       "       [ -2.11075981,   2.18178927],\n",
       "       [  4.26143896,  -2.21962035],\n",
       "       [ -3.72912884,  -4.89306159],\n",
       "       [  6.71441611,  -3.51067595],\n",
       "       [ -4.66306636,   1.79536772],\n",
       "       [ -4.76497562,   1.80654011],\n",
       "       [  4.29673401,  -1.04355399],\n",
       "       [  0.94682195,  -8.02676005],\n",
       "       [ -7.339711  ,  -3.62684876],\n",
       "       [  0.48121188,  -6.03102993],\n",
       "       [  7.41070842,  -6.66074941],\n",
       "       [  0.63405556,  -3.7285221 ],\n",
       "       [  6.423923  ,  -8.20608523],\n",
       "       [  7.82695609,  -2.05731283],\n",
       "       [  1.62621272,  -8.69361089],\n",
       "       [ -9.86418239,   3.09943452],\n",
       "       [  6.02199454,  -3.38767397],\n",
       "       [  2.26477413,   0.51038231],\n",
       "       [ -4.92116886,  -7.85910589],\n",
       "       [ -3.42058382,   0.80469152],\n",
       "       [ -5.70090722,  -1.49079906],\n",
       "       [  6.49328022,  -3.81759009],\n",
       "       [ -7.50020881,   1.2267903 ],\n",
       "       [  3.85968818,  -0.30274786],\n",
       "       [ -6.14171432,   1.2154633 ],\n",
       "       [  1.90753708,  -2.89877858],\n",
       "       [ -0.90083886,   0.37554433],\n",
       "       [ -5.47982832,   0.58837106],\n",
       "       [ -5.09439725,   2.96359909],\n",
       "       [ -2.74398421,  -5.45672303],\n",
       "       [  5.21759129,  -6.56288951],\n",
       "       [ -3.63242397,  -1.44436771],\n",
       "       [ -0.43797568,  -2.49654146],\n",
       "       [  3.35606714,  -5.33211449],\n",
       "       [ -1.58995578,  -0.64765933],\n",
       "       [ -7.30300315,   5.45982625],\n",
       "       [  0.94860724,  -4.79477098],\n",
       "       [  6.62090773,   1.87768088],\n",
       "       [  3.06379881,  -7.2634449 ],\n",
       "       [ -6.43873819,   2.10315205],\n",
       "       [  1.51065877,  -3.49723816],\n",
       "       [ -6.97250207,  -1.66336331],\n",
       "       [ -3.93986647,  -0.43305966],\n",
       "       [ -8.34769804,   0.81971376],\n",
       "       [ -1.97789965,   1.94139907],\n",
       "       [  2.9629438 ,  -1.70946681],\n",
       "       [  3.41338011,  -3.41485072],\n",
       "       [  8.10626418,  -5.25071361],\n",
       "       [ -3.5288681 ,  -0.61849428],\n",
       "       [  9.3177649 ,  -9.84608915],\n",
       "       [  1.71462579,  -9.02830441],\n",
       "       [ -5.20595365,   5.04016587],\n",
       "       [  3.70557581,  -3.37940045],\n",
       "       [ -8.91605981,  -0.49153103],\n",
       "       [ -6.13728012,   0.03178557],\n",
       "       [  5.0809059 ,  -3.44856589],\n",
       "       [  6.56140649,  -4.30852   ],\n",
       "       [  3.25154797,   0.32102853],\n",
       "       [ -5.24509664,   0.2717048 ],\n",
       "       [ -5.72477791,   1.79267505],\n",
       "       [ -0.94233233,  -6.2018757 ],\n",
       "       [ -8.26702237,   1.48813669],\n",
       "       [  7.50004714,  -1.1664072 ],\n",
       "       [  2.57671329,   0.14271897],\n",
       "       [  4.05448143,  -4.91821647],\n",
       "       [  8.35328387,  -5.02035238],\n",
       "       [  6.96846771,  -2.51869422],\n",
       "       [ -8.86569226,   1.3674491 ],\n",
       "       [ -3.93246199,   0.44307505],\n",
       "       [  5.33163384,  -1.8855741 ],\n",
       "       [ -4.20822597,   5.27379262],\n",
       "       [  3.54419473,  -6.64703926],\n",
       "       [  4.11799648,  -2.12907417],\n",
       "       [  4.0110126 ,  -1.33659439],\n",
       "       [ -7.7274073 ,   1.38438651],\n",
       "       [  6.4799054 ,  -4.75471143],\n",
       "       [  8.04240509,  -1.33638346],\n",
       "       [  5.82823011,  -2.71126766],\n",
       "       [ -6.20352803,   0.7214559 ],\n",
       "       [  3.93720998,  -2.38460085],\n",
       "       [  1.35584057,  -1.04368343],\n",
       "       [ -5.48031587,   0.45797405]])"
      ]
     },
     "execution_count": 10,
     "metadata": {},
     "output_type": "execute_result"
    }
   ],
   "source": [
    "data,target = datasets.make_blobs(n_samples=200,centers=3,cluster_std = 2.75,random_state=123)\n",
    "data\n",
    "#target"
   ]
  },
  {
   "cell_type": "code",
   "execution_count": 11,
   "id": "64819ac3",
   "metadata": {},
   "outputs": [
    {
     "data": {
      "text/plain": [
       "array([[ 2.00651759, -3.37159145],\n",
       "       [ 3.00810412, -1.44164854],\n",
       "       [ 5.9571473 , -0.17770022],\n",
       "       [-6.40144065,  0.42694316],\n",
       "       [ 1.52893147,  3.18947458],\n",
       "       [ 3.28548972,  0.31423022],\n",
       "       [-7.5565301 ,  1.03631956],\n",
       "       [ 0.7577223 , -3.37932195],\n",
       "       [ 5.10128697, -8.6920901 ],\n",
       "       [-4.5758849 , -0.16766255]])"
      ]
     },
     "execution_count": 11,
     "metadata": {},
     "output_type": "execute_result"
    }
   ],
   "source": [
    "data[:10]"
   ]
  },
  {
   "cell_type": "code",
   "execution_count": 12,
   "id": "ee717af6",
   "metadata": {},
   "outputs": [
    {
     "data": {
      "text/plain": [
       "array([2, 0, 0, 1, 2, 2, 1, 2, 0, 1])"
      ]
     },
     "execution_count": 12,
     "metadata": {},
     "output_type": "execute_result"
    }
   ],
   "source": [
    "target[:10]"
   ]
  },
  {
   "cell_type": "code",
   "execution_count": 15,
   "id": "3dc9105c",
   "metadata": {},
   "outputs": [
    {
     "data": {
      "text/plain": [
       "array([[ 2.09811309e-01, -4.31702388e-01],\n",
       "       [ 4.06521741e-01,  1.33871826e-01],\n",
       "       [ 9.85710400e-01,  5.04274791e-01],\n",
       "       [-1.44150193e+00,  6.81466927e-01],\n",
       "       [ 1.16013950e-01,  1.49103312e+00],\n",
       "       [ 4.60999952e-01,  6.48436140e-01],\n",
       "       [-1.66836016e+00,  8.60046084e-01],\n",
       "       [-3.54506362e-02, -4.33967829e-01],\n",
       "       [ 8.17620426e-01, -1.99088677e+00],\n",
       "       [-1.08296490e+00,  5.07216355e-01],\n",
       "       [ 1.21516268e+00, -1.58132613e+00],\n",
       "       [-9.13716943e-01,  1.08646830e+00],\n",
       "       [ 5.20360758e-01,  3.03423423e-01],\n",
       "       [ 9.73245958e-02,  6.44266113e-01],\n",
       "       [ 2.97389657e-01,  7.10585575e-01],\n",
       "       [ 4.12630040e-01, -9.49374582e-01],\n",
       "       [ 1.50635987e+00, -3.21380832e-01],\n",
       "       [-4.00286315e-02,  3.29739326e-01],\n",
       "       [-9.44178992e-01,  1.32427689e+00],\n",
       "       [ 1.12974629e+00, -3.85871720e-01],\n",
       "       [-1.09117033e+00,  3.64525743e-01],\n",
       "       [ 5.02886968e-01, -4.60736053e-02],\n",
       "       [ 8.81375955e-01, -7.95876215e-01],\n",
       "       [ 1.69091649e+00,  4.40679338e-01],\n",
       "       [ 1.02620295e+00, -2.94359457e-01],\n",
       "       [ 1.26540969e+00, -1.25225222e+00],\n",
       "       [-2.80205645e-01, -2.22738213e-01],\n",
       "       [ 2.20795741e-01, -7.73422332e-01],\n",
       "       [ 1.36082269e+00, -1.03886723e+00],\n",
       "       [ 6.22220909e-01, -1.22094800e-01],\n",
       "       [-1.42122670e-01, -2.65994420e-01],\n",
       "       [-1.32278161e+00,  3.86839834e-01],\n",
       "       [ 1.19404461e+00, -6.01589706e-01],\n",
       "       [ 2.90971089e-01,  7.58323217e-01],\n",
       "       [-7.40529919e-01, -2.86233989e-01],\n",
       "       [ 1.40158564e+00, -1.15898016e+00],\n",
       "       [ 1.91710847e-01, -6.44615102e-01],\n",
       "       [ 1.78910662e-01, -4.37851730e-01],\n",
       "       [-6.85953870e-02,  1.41180273e+00],\n",
       "       [-2.01974425e+00, -6.55448400e-01],\n",
       "       [ 1.42043066e+00,  5.49101367e-04],\n",
       "       [ 7.64512134e-01,  7.66313692e-01],\n",
       "       [ 1.31290826e+00,  6.53739126e-01],\n",
       "       [ 4.19029830e-01,  3.95836333e-01],\n",
       "       [-1.24117752e+00,  3.24144648e+00],\n",
       "       [ 8.43653447e-01, -1.15155978e+00],\n",
       "       [ 4.02168046e-01, -2.55182559e-01],\n",
       "       [ 1.77887578e+00,  1.06522047e+00],\n",
       "       [ 1.39295476e+00, -1.21198414e+00],\n",
       "       [ 6.73125113e-01,  8.92881231e-01],\n",
       "       [ 1.74062729e-02, -2.11293118e-01],\n",
       "       [-1.72460478e+00, -2.50744083e-01],\n",
       "       [ 1.71470325e+00, -5.64574784e-01],\n",
       "       [-9.36332120e-01,  6.96645035e-01],\n",
       "       [-5.38244259e-01, -3.68974060e-01],\n",
       "       [-1.91253282e+00, -2.11899850e-01],\n",
       "       [ 1.15794484e+00,  1.04137150e+00],\n",
       "       [-2.74481766e-02, -6.05792765e-01],\n",
       "       [ 5.86836025e-01,  3.02333476e-01],\n",
       "       [ 1.44832972e-01,  1.53456031e-01],\n",
       "       [ 1.91859603e-01, -1.67426187e+00],\n",
       "       [-1.11471369e-01, -1.53424997e+00],\n",
       "       [ 4.88098418e-02, -1.58361492e+00],\n",
       "       [ 6.85236481e-01,  2.52134715e-01],\n",
       "       [ 9.04409767e-01,  2.72435284e-01],\n",
       "       [-5.13335197e-01,  7.41723841e-01],\n",
       "       [ 4.90880481e-01,  1.93841001e-01],\n",
       "       [ 3.76336254e-01, -2.34670352e-01],\n",
       "       [ 7.92373045e-01, -1.00267291e+00],\n",
       "       [ 9.72151842e-01,  1.39686015e+00],\n",
       "       [-1.02177246e+00,  6.00063005e-01],\n",
       "       [-4.34261625e-01, -2.53665934e-02],\n",
       "       [ 6.70455188e-01,  6.58678573e-01],\n",
       "       [-6.99548569e-01,  7.00488871e-01],\n",
       "       [-1.16148656e+00,  8.32957444e-01],\n",
       "       [ 1.06852767e+00,  7.17154995e-01],\n",
       "       [ 3.69603275e-01, -7.98663423e-01],\n",
       "       [ 1.60615708e-01,  1.76296802e+00],\n",
       "       [-3.45775688e-01,  1.76375112e-01],\n",
       "       [ 1.35023051e-01,  6.21621958e-01],\n",
       "       [-1.46870018e+00,  9.69915969e-01],\n",
       "       [-1.12217960e+00,  7.19197882e-02],\n",
       "       [ 3.47666745e-01, -1.04713797e+00],\n",
       "       [ 1.52923339e+00, -1.34025079e+00],\n",
       "       [-9.38150106e-01,  9.50027005e-01],\n",
       "       [-1.03948213e+00,  2.04332728e+00],\n",
       "       [ 1.20868233e+00, -1.71844816e+00],\n",
       "       [ 2.36182564e-01, -9.79347584e-01],\n",
       "       [ 5.74159571e-01, -6.69582027e-01],\n",
       "       [ 6.84434089e-01, -2.19765170e+00],\n",
       "       [ 2.30600046e-02,  6.62366816e-01],\n",
       "       [-2.15354323e-01,  1.11572938e+00],\n",
       "       [ 4.49400779e-01, -2.95246266e+00],\n",
       "       [ 1.61975363e+00, -6.74225569e-01],\n",
       "       [-1.38663191e+00,  9.72599294e-01],\n",
       "       [ 1.70122474e-01, -5.65220353e-02],\n",
       "       [ 5.99292218e-01,  1.61166880e+00],\n",
       "       [-1.55350743e+00, -1.20360606e+00],\n",
       "       [-1.24621496e+00,  7.00794189e-01],\n",
       "       [ 4.38508839e-01, -1.14203745e+00],\n",
       "       [-7.22419952e-01,  5.72020040e-01],\n",
       "       [-7.73229333e-01,  1.15498262e+00],\n",
       "       [ 7.54726208e-01,  5.41848637e-01],\n",
       "       [ 9.34231674e-01, -2.29106464e+00],\n",
       "       [-2.51026324e-01,  1.53007717e+00],\n",
       "       [-2.04849217e+00,  1.15000701e+00],\n",
       "       [-1.14939391e+00,  7.55470940e-01],\n",
       "       [-1.52984910e-01, -9.65036732e-01],\n",
       "       [ 7.57197287e-01, -1.76592611e+00],\n",
       "       [-5.59219740e-01,  1.40812693e-01],\n",
       "       [ 1.48453512e+00, -4.64922688e-02],\n",
       "       [ 6.00021454e-01,  1.16671800e+00],\n",
       "       [-1.40564806e+00, -2.84103479e-01],\n",
       "       [ 7.70330851e-01, -7.06631080e-01],\n",
       "       [-3.42166106e-01, -8.03640959e-01],\n",
       "       [ 1.87956883e+00, -3.64333594e-01],\n",
       "       [-5.03561904e-01,  5.67844226e-01],\n",
       "       [ 3.56471599e-01,  3.04523948e-01],\n",
       "       [-5.98817195e-01,  1.19572862e+00],\n",
       "       [ 6.52675251e-01, -9.41146057e-02],\n",
       "       [-9.16662996e-01, -8.77572717e-01],\n",
       "       [ 1.13443712e+00, -4.72461421e-01],\n",
       "       [-1.10008724e+00,  1.08248690e+00],\n",
       "       [-1.12010210e+00,  1.08576099e+00],\n",
       "       [ 6.59607157e-01,  2.50534350e-01],\n",
       "       [ 1.68831616e-03, -1.79591027e+00],\n",
       "       [-1.62577714e+00, -5.06506131e-01],\n",
       "       [-8.97569630e-02, -1.21105696e+00],\n",
       "       [ 1.27118812e+00, -1.39559770e+00],\n",
       "       [-5.97386400e-02, -5.36301737e-01],\n",
       "       [ 1.07738461e+00, -1.84846192e+00],\n",
       "       [ 1.35293868e+00, -4.65500124e-02],\n",
       "       [ 1.35119875e-01, -1.99133244e+00],\n",
       "       [-2.12158040e+00,  1.46464668e+00],\n",
       "       [ 9.98446325e-01, -4.36415408e-01],\n",
       "       [ 2.60532595e-01,  7.05918963e-01],\n",
       "       [-1.15077827e+00, -1.74677883e+00],\n",
       "       [-8.56065111e-01,  7.92166954e-01],\n",
       "       [-1.30391798e+00,  1.19468153e-01],\n",
       "       [ 1.09100629e+00, -5.62403317e-01],\n",
       "       [-1.65729872e+00,  9.15863974e-01],\n",
       "       [ 5.73771864e-01,  4.67629293e-01],\n",
       "       [-1.39049198e+00,  9.12544569e-01],\n",
       "       [ 1.90371653e-01, -2.93143488e-01],\n",
       "       [-3.61190124e-01,  6.66404382e-01],\n",
       "       [-1.26049834e+00,  7.28773744e-01],\n",
       "       [-1.18480013e+00,  1.42483979e+00],\n",
       "       [-7.23181732e-01, -1.04275500e+00],\n",
       "       [ 8.40462459e-01, -1.36691963e+00],\n",
       "       [-8.97670271e-01,  1.33074968e-01],\n",
       "       [-2.70284332e-01, -1.75266975e-01],\n",
       "       [ 4.74861276e-01, -1.00623818e+00],\n",
       "       [-4.96531887e-01,  3.66552193e-01],\n",
       "       [-1.61856776e+00,  2.15636491e+00],\n",
       "       [ 2.03894499e-03, -8.48768427e-01],\n",
       "       [ 1.11607218e+00,  1.10660896e+00],\n",
       "       [ 4.17460114e-01, -1.57221901e+00],\n",
       "       [-1.44882713e+00,  1.17268380e+00],\n",
       "       [ 1.12425212e-01, -4.68523446e-01],\n",
       "       [-1.55365773e+00,  6.88978020e-02],\n",
       "       [-9.58051621e-01,  4.29441121e-01],\n",
       "       [-1.82374463e+00,  7.96569257e-01],\n",
       "       [-5.72723615e-01,  1.12528172e+00],\n",
       "       [ 3.97652308e-01,  5.53870663e-02],\n",
       "       [ 4.86117476e-01, -4.44379618e-01],\n",
       "       [ 1.40779446e+00, -9.82383466e-01],\n",
       "       [-8.77332019e-01,  3.75099078e-01],\n",
       "       [ 1.64573180e+00, -2.32906885e+00],\n",
       "       [ 1.52484098e-01, -2.08941515e+00],\n",
       "       [-1.20670967e+00,  2.03338247e+00],\n",
       "       [ 5.43504372e-01, -4.33990835e-01],\n",
       "       [-1.93537022e+00,  4.12305951e-01],\n",
       "       [-1.38962111e+00,  5.65665085e-01],\n",
       "       [ 8.13617607e-01, -4.54259925e-01],\n",
       "       [ 1.10438621e+00, -7.06271458e-01],\n",
       "       [ 4.54333832e-01,  6.50428402e-01],\n",
       "       [-1.21439731e+00,  6.35973970e-01],\n",
       "       [-1.30860616e+00,  1.08169780e+00],\n",
       "       [-3.69339393e-01, -1.26112371e+00],\n",
       "       [-1.80790002e+00,  9.92452136e-01],\n",
       "       [ 1.28873414e+00,  2.14531935e-01],\n",
       "       [ 3.21797084e-01,  5.98174372e-01],\n",
       "       [ 6.12029033e-01, -8.84944412e-01],\n",
       "       [ 1.45630884e+00, -9.14875576e-01],\n",
       "       [ 1.18433256e+00, -1.81758890e-01],\n",
       "       [-1.92547809e+00,  9.57084358e-01],\n",
       "       [-9.56597390e-01,  6.86194413e-01],\n",
       "       [ 8.62860284e-01,  3.77841892e-03],\n",
       "       [-1.01075711e+00,  2.10184732e+00],\n",
       "       [ 5.11809316e-01, -1.39157991e+00],\n",
       "       [ 6.24503314e-01, -6.75798384e-02],\n",
       "       [ 6.03491803e-01,  1.64658188e-01],\n",
       "       [-1.70192024e+00,  9.62047905e-01],\n",
       "       [ 1.08837949e+00, -8.37028884e-01],\n",
       "       [ 1.39525261e+00,  1.64720000e-01],\n",
       "       [ 9.60391215e-01, -2.38192983e-01],\n",
       "       [-1.40263212e+00,  7.67774563e-01],\n",
       "       [ 5.88997055e-01, -1.42462519e-01],\n",
       "       [ 8.20190986e-02,  2.50496419e-01],\n",
       "       [-1.26059410e+00,  6.90560600e-01]])"
      ]
     },
     "execution_count": 15,
     "metadata": {},
     "output_type": "execute_result"
    }
   ],
   "source": [
    "scaler = StandardScaler()\n",
    "scaled_data = scaler.fit_transform(data)\n",
    "scaled_data"
   ]
  },
  {
   "cell_type": "code",
   "execution_count": 16,
   "id": "856903ac",
   "metadata": {},
   "outputs": [
    {
     "data": {
      "text/html": [
       "<div>\n",
       "<style scoped>\n",
       "    .dataframe tbody tr th:only-of-type {\n",
       "        vertical-align: middle;\n",
       "    }\n",
       "\n",
       "    .dataframe tbody tr th {\n",
       "        vertical-align: top;\n",
       "    }\n",
       "\n",
       "    .dataframe thead th {\n",
       "        text-align: right;\n",
       "    }\n",
       "</style>\n",
       "<table border=\"1\" class=\"dataframe\">\n",
       "  <thead>\n",
       "    <tr style=\"text-align: right;\">\n",
       "      <th></th>\n",
       "      <th>X</th>\n",
       "      <th>Y</th>\n",
       "    </tr>\n",
       "  </thead>\n",
       "  <tbody>\n",
       "    <tr>\n",
       "      <th>0</th>\n",
       "      <td>0.209811</td>\n",
       "      <td>-0.431702</td>\n",
       "    </tr>\n",
       "    <tr>\n",
       "      <th>1</th>\n",
       "      <td>0.406522</td>\n",
       "      <td>0.133872</td>\n",
       "    </tr>\n",
       "    <tr>\n",
       "      <th>2</th>\n",
       "      <td>0.985710</td>\n",
       "      <td>0.504275</td>\n",
       "    </tr>\n",
       "    <tr>\n",
       "      <th>3</th>\n",
       "      <td>-1.441502</td>\n",
       "      <td>0.681467</td>\n",
       "    </tr>\n",
       "    <tr>\n",
       "      <th>4</th>\n",
       "      <td>0.116014</td>\n",
       "      <td>1.491033</td>\n",
       "    </tr>\n",
       "    <tr>\n",
       "      <th>...</th>\n",
       "      <td>...</td>\n",
       "      <td>...</td>\n",
       "    </tr>\n",
       "    <tr>\n",
       "      <th>195</th>\n",
       "      <td>0.960391</td>\n",
       "      <td>-0.238193</td>\n",
       "    </tr>\n",
       "    <tr>\n",
       "      <th>196</th>\n",
       "      <td>-1.402632</td>\n",
       "      <td>0.767775</td>\n",
       "    </tr>\n",
       "    <tr>\n",
       "      <th>197</th>\n",
       "      <td>0.588997</td>\n",
       "      <td>-0.142463</td>\n",
       "    </tr>\n",
       "    <tr>\n",
       "      <th>198</th>\n",
       "      <td>0.082019</td>\n",
       "      <td>0.250496</td>\n",
       "    </tr>\n",
       "    <tr>\n",
       "      <th>199</th>\n",
       "      <td>-1.260594</td>\n",
       "      <td>0.690561</td>\n",
       "    </tr>\n",
       "  </tbody>\n",
       "</table>\n",
       "<p>200 rows × 2 columns</p>\n",
       "</div>"
      ],
      "text/plain": [
       "            X         Y\n",
       "0    0.209811 -0.431702\n",
       "1    0.406522  0.133872\n",
       "2    0.985710  0.504275\n",
       "3   -1.441502  0.681467\n",
       "4    0.116014  1.491033\n",
       "..        ...       ...\n",
       "195  0.960391 -0.238193\n",
       "196 -1.402632  0.767775\n",
       "197  0.588997 -0.142463\n",
       "198  0.082019  0.250496\n",
       "199 -1.260594  0.690561\n",
       "\n",
       "[200 rows x 2 columns]"
      ]
     },
     "execution_count": 16,
     "metadata": {},
     "output_type": "execute_result"
    }
   ],
   "source": [
    "df = pd.DataFrame(scaled_data,columns=['X','Y'])\n",
    "df"
   ]
  },
  {
   "cell_type": "code",
   "execution_count": 17,
   "id": "d3b6d9a7",
   "metadata": {},
   "outputs": [
    {
     "data": {
      "text/html": [
       "<div>\n",
       "<style scoped>\n",
       "    .dataframe tbody tr th:only-of-type {\n",
       "        vertical-align: middle;\n",
       "    }\n",
       "\n",
       "    .dataframe tbody tr th {\n",
       "        vertical-align: top;\n",
       "    }\n",
       "\n",
       "    .dataframe thead th {\n",
       "        text-align: right;\n",
       "    }\n",
       "</style>\n",
       "<table border=\"1\" class=\"dataframe\">\n",
       "  <thead>\n",
       "    <tr style=\"text-align: right;\">\n",
       "      <th></th>\n",
       "      <th>X</th>\n",
       "      <th>Y</th>\n",
       "    </tr>\n",
       "  </thead>\n",
       "  <tbody>\n",
       "    <tr>\n",
       "      <th>count</th>\n",
       "      <td>2.000000e+02</td>\n",
       "      <td>2.000000e+02</td>\n",
       "    </tr>\n",
       "    <tr>\n",
       "      <th>mean</th>\n",
       "      <td>-6.883383e-17</td>\n",
       "      <td>2.536860e-16</td>\n",
       "    </tr>\n",
       "    <tr>\n",
       "      <th>std</th>\n",
       "      <td>1.002509e+00</td>\n",
       "      <td>1.002509e+00</td>\n",
       "    </tr>\n",
       "    <tr>\n",
       "      <th>min</th>\n",
       "      <td>-2.121580e+00</td>\n",
       "      <td>-2.952463e+00</td>\n",
       "    </tr>\n",
       "    <tr>\n",
       "      <th>25%</th>\n",
       "      <td>-9.215803e-01</td>\n",
       "      <td>-6.707429e-01</td>\n",
       "    </tr>\n",
       "    <tr>\n",
       "      <th>50%</th>\n",
       "      <td>1.745166e-01</td>\n",
       "      <td>9.569397e-02</td>\n",
       "    </tr>\n",
       "    <tr>\n",
       "      <th>75%</th>\n",
       "      <td>7.590260e-01</td>\n",
       "      <td>7.020754e-01</td>\n",
       "    </tr>\n",
       "    <tr>\n",
       "      <th>max</th>\n",
       "      <td>1.879569e+00</td>\n",
       "      <td>3.241446e+00</td>\n",
       "    </tr>\n",
       "  </tbody>\n",
       "</table>\n",
       "</div>"
      ],
      "text/plain": [
       "                  X             Y\n",
       "count  2.000000e+02  2.000000e+02\n",
       "mean  -6.883383e-17  2.536860e-16\n",
       "std    1.002509e+00  1.002509e+00\n",
       "min   -2.121580e+00 -2.952463e+00\n",
       "25%   -9.215803e-01 -6.707429e-01\n",
       "50%    1.745166e-01  9.569397e-02\n",
       "75%    7.590260e-01  7.020754e-01\n",
       "max    1.879569e+00  3.241446e+00"
      ]
     },
     "execution_count": 17,
     "metadata": {},
     "output_type": "execute_result"
    }
   ],
   "source": [
    "df.describe()"
   ]
  },
  {
   "cell_type": "code",
   "execution_count": 21,
   "id": "0d9ff820",
   "metadata": {},
   "outputs": [
    {
     "data": {
      "text/plain": [
       "<AxesSubplot:xlabel='X', ylabel='Y'>"
      ]
     },
     "execution_count": 21,
     "metadata": {},
     "output_type": "execute_result"
    },
    {
     "data": {
      "image/png": "[encoded data removed]",
      "text/plain": [
       "<Figure size 432x288 with 1 Axes>"
      ]
     },
     "metadata": {
      "needs_background": "light"
     },
     "output_type": "display_data"
    }
   ],
   "source": [
    "sns.scatterplot(data=scaled_data,x=df['X'],y=df['Y'])"
   ]
  },
  {
   "cell_type": "code",
   "execution_count": 35,
   "id": "d6ecb53f",
   "metadata": {},
   "outputs": [
    {
     "name": "stdout",
     "output_type": "stream",
     "text": [
      "Initialization complete\n",
      "Iteration 0, inertia 178.80246266380672\n",
      "Iteration 1, inertia 137.7546067626728\n",
      "Iteration 2, inertia 131.93762254831034\n",
      "Iteration 3, inertia 131.6465414627425\n",
      "Iteration 4, inertia 131.08321180049631\n",
      "Iteration 5, inertia 130.62259236006417\n",
      "Iteration 6, inertia 130.59757343196134\n",
      "Converged at iteration 6: strict convergence.\n",
      "Initialization complete\n",
      "Iteration 0, inertia 259.5754799821004\n",
      "Iteration 1, inertia 164.1386397119304\n",
      "Iteration 2, inertia 140.9897610428282\n",
      "Iteration 3, inertia 133.69702130345664\n",
      "Iteration 4, inertia 131.8257998779035\n",
      "Iteration 5, inertia 131.4642912739743\n",
      "Iteration 6, inertia 131.41148409071928\n",
      "Iteration 7, inertia 131.28831455429838\n",
      "Iteration 8, inertia 131.22444669471645\n",
      "Iteration 9, inertia 131.17688021526115\n",
      "Iteration 10, inertia 131.03401870914993\n",
      "Iteration 11, inertia 130.9833030066596\n",
      "Iteration 12, inertia 130.9335577970922\n",
      "Iteration 13, inertia 130.87799677713832\n",
      "Converged at iteration 13: strict convergence.\n",
      "Initialization complete\n",
      "Iteration 0, inertia 233.10821315059204\n",
      "Iteration 1, inertia 167.70080142920105\n",
      "Iteration 2, inertia 163.32248749354866\n",
      "Iteration 3, inertia 157.92384522983593\n",
      "Iteration 4, inertia 149.19969893869236\n",
      "Iteration 5, inertia 138.54582050141454\n",
      "Iteration 6, inertia 132.9301794873671\n",
      "Iteration 7, inertia 131.38766936919754\n",
      "Iteration 8, inertia 131.28831455429838\n",
      "Iteration 9, inertia 131.22444669471645\n",
      "Iteration 10, inertia 131.17688021526115\n",
      "Iteration 11, inertia 131.03401870914993\n",
      "Iteration 12, inertia 130.9833030066596\n",
      "Iteration 13, inertia 130.9335577970922\n",
      "Iteration 14, inertia 130.87799677713832\n",
      "Converged at iteration 14: strict convergence.\n",
      "Initialization complete\n",
      "Iteration 0, inertia 208.68772751135276\n",
      "Iteration 1, inertia 147.4885441522932\n",
      "Iteration 2, inertia 136.53889227162634\n",
      "Iteration 3, inertia 132.63776416424435\n",
      "Iteration 4, inertia 131.2897909156368\n",
      "Iteration 5, inertia 131.15239780403357\n",
      "Iteration 6, inertia 131.01765031356376\n",
      "Iteration 7, inertia 130.88183066474187\n",
      "Iteration 8, inertia 130.70822526257027\n",
      "Converged at iteration 8: strict convergence.\n",
      "Initialization complete\n",
      "Iteration 0, inertia 335.330977627967\n",
      "Iteration 1, inertia 189.34860901281561\n",
      "Iteration 2, inertia 173.1420259272514\n",
      "Iteration 3, inertia 172.48189285246818\n",
      "Iteration 4, inertia 172.13597819258553\n",
      "Iteration 5, inertia 171.77158542288754\n",
      "Iteration 6, inertia 171.1093227637357\n",
      "Iteration 7, inertia 170.51550603481968\n",
      "Iteration 8, inertia 170.41013280119085\n",
      "Iteration 9, inertia 170.35176020570302\n",
      "Iteration 10, inertia 170.28605216447278\n",
      "Iteration 11, inertia 170.24919767780042\n",
      "Converged at iteration 11: strict convergence.\n",
      "Initialization complete\n",
      "Iteration 0, inertia 212.42497529870408\n",
      "Iteration 1, inertia 135.38612340994467\n",
      "Iteration 2, inertia 131.48926271936773\n",
      "Iteration 3, inertia 131.29087589834816\n",
      "Iteration 4, inertia 130.89178881363455\n",
      "Iteration 5, inertia 130.82344501256495\n",
      "Iteration 6, inertia 130.76876145496286\n",
      "Converged at iteration 6: strict convergence.\n",
      "Initialization complete\n",
      "Iteration 0, inertia 292.77985926178246\n",
      "Iteration 1, inertia 155.56664093143556\n",
      "Iteration 2, inertia 143.45160166939544\n",
      "Iteration 3, inertia 136.56838652989143\n",
      "Iteration 4, inertia 133.0719638107146\n",
      "Iteration 5, inertia 131.70582930269862\n",
      "Iteration 6, inertia 130.9167477003817\n",
      "Iteration 7, inertia 130.87566640778053\n",
      "Iteration 8, inertia 130.8014515346365\n",
      "Iteration 9, inertia 130.70454751803098\n",
      "Converged at iteration 9: strict convergence.\n",
      "Initialization complete\n",
      "Iteration 0, inertia 174.31887119166592\n",
      "Iteration 1, inertia 138.0376125677405\n",
      "Iteration 2, inertia 134.72004988747548\n",
      "Iteration 3, inertia 132.60022066116156\n",
      "Iteration 4, inertia 131.9361300890342\n",
      "Iteration 5, inertia 131.2933218516128\n",
      "Iteration 6, inertia 130.74587373322584\n",
      "Iteration 7, inertia 130.70454751803098\n",
      "Converged at iteration 7: strict convergence.\n",
      "Initialization complete\n",
      "Iteration 0, inertia 217.19725224712178\n",
      "Iteration 1, inertia 146.4337447292679\n",
      "Iteration 2, inertia 137.99376863255475\n",
      "Iteration 3, inertia 133.08207342156484\n",
      "Iteration 4, inertia 131.4728777270946\n",
      "Iteration 5, inertia 131.17688021526115\n",
      "Iteration 6, inertia 131.03401870914993\n",
      "Iteration 7, inertia 130.9833030066596\n",
      "Iteration 8, inertia 130.9335577970922\n",
      "Iteration 9, inertia 130.87799677713832\n",
      "Converged at iteration 9: strict convergence.\n",
      "Initialization complete\n",
      "Iteration 0, inertia 749.322572794118\n",
      "Iteration 1, inertia 235.78991952476719\n",
      "Iteration 2, inertia 188.39603195165304\n",
      "Iteration 3, inertia 168.57276153371228\n",
      "Iteration 4, inertia 150.01818217989734\n",
      "Iteration 5, inertia 140.4895213766318\n",
      "Iteration 6, inertia 133.77360095103523\n",
      "Iteration 7, inertia 131.22568364998656\n",
      "Iteration 8, inertia 131.17688021526115\n",
      "Iteration 9, inertia 131.03401870914993\n",
      "Iteration 10, inertia 130.9833030066596\n",
      "Iteration 11, inertia 130.9335577970922\n",
      "Iteration 12, inertia 130.87799677713832\n",
      "Converged at iteration 12: strict convergence.\n"
     ]
    },
    {
     "data": {
      "text/plain": [
       "KMeans(init='random', n_clusters=3, random_state=12, verbose=1)"
      ]
     },
     "execution_count": 35,
     "metadata": {},
     "output_type": "execute_result"
    }
   ],
   "source": [
    "model=KMeans(n_clusters=3, init=\"random\", max_iter=300,random_state=12,verbose=1)\n",
    "model.fit(scaled_data)"
   ]
  },
  {
   "cell_type": "code",
   "execution_count": 36,
   "id": "d241f376",
   "metadata": {},
   "outputs": [
    {
     "data": {
      "text/plain": [
       "array([1, 0, 0, 2, 0, 0, 2, 1, 1, 2, 1, 2, 0, 0, 0, 1, 0, 0, 2, 0, 2, 0,\n",
       "       1, 0, 0, 1, 0, 1, 1, 0, 0, 2, 1, 0, 2, 1, 1, 1, 0, 2, 0, 0, 0, 0,\n",
       "       2, 1, 0, 0, 1, 0, 0, 2, 1, 2, 2, 2, 0, 1, 0, 0, 1, 1, 1, 0, 0, 2,\n",
       "       0, 0, 1, 0, 2, 2, 0, 2, 2, 0, 1, 0, 2, 0, 2, 2, 1, 1, 2, 2, 1, 1,\n",
       "       1, 1, 0, 2, 1, 1, 2, 0, 0, 2, 2, 1, 2, 2, 0, 1, 2, 2, 2, 1, 1, 2,\n",
       "       0, 0, 2, 1, 1, 0, 2, 0, 2, 0, 1, 1, 2, 2, 0, 1, 2, 1, 1, 1, 1, 0,\n",
       "       1, 2, 1, 0, 1, 2, 2, 1, 2, 0, 2, 0, 2, 2, 2, 1, 1, 2, 0, 1, 2, 2,\n",
       "       1, 0, 1, 2, 1, 2, 2, 2, 2, 0, 1, 1, 2, 1, 1, 2, 1, 2, 2, 1, 1, 0,\n",
       "       2, 2, 1, 2, 0, 0, 1, 1, 0, 2, 2, 0, 2, 1, 0, 0, 2, 1, 0, 0, 2, 0,\n",
       "       0, 2])"
      ]
     },
     "execution_count": 36,
     "metadata": {},
     "output_type": "execute_result"
    }
   ],
   "source": [
    "clusters = model.predict(scaled_data)\n",
    "clusters"
   ]
  },
  {
   "cell_type": "code",
   "execution_count": 37,
   "id": "a9722297",
   "metadata": {},
   "outputs": [
    {
     "data": {
      "text/html": [
       "<div>\n",
       "<style scoped>\n",
       "    .dataframe tbody tr th:only-of-type {\n",
       "        vertical-align: middle;\n",
       "    }\n",
       "\n",
       "    .dataframe tbody tr th {\n",
       "        vertical-align: top;\n",
       "    }\n",
       "\n",
       "    .dataframe thead th {\n",
       "        text-align: right;\n",
       "    }\n",
       "</style>\n",
       "<table border=\"1\" class=\"dataframe\">\n",
       "  <thead>\n",
       "    <tr style=\"text-align: right;\">\n",
       "      <th></th>\n",
       "      <th>X</th>\n",
       "      <th>Y</th>\n",
       "      <th>clusterID</th>\n",
       "    </tr>\n",
       "  </thead>\n",
       "  <tbody>\n",
       "    <tr>\n",
       "      <th>0</th>\n",
       "      <td>0.209811</td>\n",
       "      <td>-0.431702</td>\n",
       "      <td>1</td>\n",
       "    </tr>\n",
       "    <tr>\n",
       "      <th>1</th>\n",
       "      <td>0.406522</td>\n",
       "      <td>0.133872</td>\n",
       "      <td>0</td>\n",
       "    </tr>\n",
       "    <tr>\n",
       "      <th>2</th>\n",
       "      <td>0.985710</td>\n",
       "      <td>0.504275</td>\n",
       "      <td>0</td>\n",
       "    </tr>\n",
       "    <tr>\n",
       "      <th>3</th>\n",
       "      <td>-1.441502</td>\n",
       "      <td>0.681467</td>\n",
       "      <td>2</td>\n",
       "    </tr>\n",
       "    <tr>\n",
       "      <th>4</th>\n",
       "      <td>0.116014</td>\n",
       "      <td>1.491033</td>\n",
       "      <td>0</td>\n",
       "    </tr>\n",
       "    <tr>\n",
       "      <th>...</th>\n",
       "      <td>...</td>\n",
       "      <td>...</td>\n",
       "      <td>...</td>\n",
       "    </tr>\n",
       "    <tr>\n",
       "      <th>195</th>\n",
       "      <td>0.960391</td>\n",
       "      <td>-0.238193</td>\n",
       "      <td>0</td>\n",
       "    </tr>\n",
       "    <tr>\n",
       "      <th>196</th>\n",
       "      <td>-1.402632</td>\n",
       "      <td>0.767775</td>\n",
       "      <td>2</td>\n",
       "    </tr>\n",
       "    <tr>\n",
       "      <th>197</th>\n",
       "      <td>0.588997</td>\n",
       "      <td>-0.142463</td>\n",
       "      <td>0</td>\n",
       "    </tr>\n",
       "    <tr>\n",
       "      <th>198</th>\n",
       "      <td>0.082019</td>\n",
       "      <td>0.250496</td>\n",
       "      <td>0</td>\n",
       "    </tr>\n",
       "    <tr>\n",
       "      <th>199</th>\n",
       "      <td>-1.260594</td>\n",
       "      <td>0.690561</td>\n",
       "      <td>2</td>\n",
       "    </tr>\n",
       "  </tbody>\n",
       "</table>\n",
       "<p>200 rows × 3 columns</p>\n",
       "</div>"
      ],
      "text/plain": [
       "            X         Y  clusterID\n",
       "0    0.209811 -0.431702          1\n",
       "1    0.406522  0.133872          0\n",
       "2    0.985710  0.504275          0\n",
       "3   -1.441502  0.681467          2\n",
       "4    0.116014  1.491033          0\n",
       "..        ...       ...        ...\n",
       "195  0.960391 -0.238193          0\n",
       "196 -1.402632  0.767775          2\n",
       "197  0.588997 -0.142463          0\n",
       "198  0.082019  0.250496          0\n",
       "199 -1.260594  0.690561          2\n",
       "\n",
       "[200 rows x 3 columns]"
      ]
     },
     "execution_count": 37,
     "metadata": {},
     "output_type": "execute_result"
    }
   ],
   "source": [
    "df['clusterID']=clusters\n",
    "df"
   ]
  },
  {
   "cell_type": "code",
   "execution_count": 28,
   "id": "b29197c2",
   "metadata": {},
   "outputs": [
    {
     "data": {
      "text/plain": [
       "<AxesSubplot:xlabel='X', ylabel='Y'>"
      ]
     },
     "execution_count": 28,
     "metadata": {},
     "output_type": "execute_result"
    },
    {
     "data": {
      "image/png": "[encoded data removed]",
      "text/plain": [
       "<Figure size 432x288 with 1 Axes>"
      ]
     },
     "metadata": {
      "needs_background": "light"
     },
     "output_type": "display_data"
    }
   ],
   "source": [
    "sns.scatterplot(data=scaled_data, x=df['X'], y=df['Y'], hue=df['clusterID'])"
   ]
  },
  {
   "cell_type": "code",
   "execution_count": 29,
   "id": "0f28690a",
   "metadata": {},
   "outputs": [
    {
     "data": {
      "text/plain": [
       "<AxesSubplot:xlabel='X', ylabel='Y'>"
      ]
     },
     "execution_count": 29,
     "metadata": {},
     "output_type": "execute_result"
    },
    {
     "data": {
      "image/png": "[encoded data removed]",
      "text/plain": [
       "<Figure size 432x288 with 1 Axes>"
      ]
     },
     "metadata": {
      "needs_background": "light"
     },
     "output_type": "display_data"
    }
   ],
   "source": [
    "sns.scatterplot(data=scaled_data, x=df['X'], y=df['Y'], hue=df['clusterID'], palette=\"deep\")"
   ]
  },
  {
   "cell_type": "code",
   "execution_count": 30,
   "id": "050b00a2",
   "metadata": {},
   "outputs": [
    {
     "data": {
      "text/plain": [
       "{'algorithm': 'auto',\n",
       " 'copy_x': True,\n",
       " 'init': 'random',\n",
       " 'max_iter': 300,\n",
       " 'n_clusters': 2,\n",
       " 'n_init': 10,\n",
       " 'n_jobs': 'deprecated',\n",
       " 'precompute_distances': 'deprecated',\n",
       " 'random_state': 12,\n",
       " 'tol': 0.0001,\n",
       " 'verbose': 0}"
      ]
     },
     "execution_count": 30,
     "metadata": {},
     "output_type": "execute_result"
    }
   ],
   "source": [
    "model.get_params()"
   ]
  },
  {
   "cell_type": "code",
   "execution_count": 31,
   "id": "c6424e04",
   "metadata": {},
   "outputs": [
    {
     "data": {
      "text/plain": [
       "array([0, 0, 0, 1, 1, 0, 1, 0, 0, 1, 0, 1, 0, 1, 0, 0, 0, 0, 1, 0, 1, 0,\n",
       "       0, 0, 0, 0, 0, 0, 0, 0, 0, 1, 0, 0, 1, 0, 0, 0, 1, 1, 0, 0, 0, 0,\n",
       "       1, 0, 0, 0, 0, 0, 0, 1, 0, 1, 0, 1, 0, 0, 0, 0, 0, 0, 0, 0, 0, 1,\n",
       "       0, 0, 0, 0, 1, 1, 0, 1, 1, 0, 0, 1, 1, 0, 1, 1, 0, 0, 1, 1, 0, 0,\n",
       "       0, 0, 1, 1, 0, 0, 1, 0, 1, 1, 1, 0, 1, 1, 0, 0, 1, 1, 1, 0, 0, 1,\n",
       "       0, 0, 1, 0, 0, 0, 1, 0, 1, 0, 0, 0, 1, 1, 0, 0, 1, 0, 0, 0, 0, 0,\n",
       "       0, 1, 0, 0, 0, 1, 1, 0, 1, 0, 1, 0, 1, 1, 1, 0, 0, 1, 0, 0, 1, 1,\n",
       "       0, 0, 0, 1, 0, 1, 1, 1, 1, 0, 0, 0, 1, 0, 0, 1, 0, 1, 1, 0, 0, 0,\n",
       "       1, 1, 0, 1, 0, 0, 0, 0, 0, 1, 1, 0, 1, 0, 0, 0, 1, 0, 0, 0, 1, 0,\n",
       "       0, 1])"
      ]
     },
     "execution_count": 31,
     "metadata": {},
     "output_type": "execute_result"
    }
   ],
   "source": [
    "model.labels_"
   ]
  },
  {
   "cell_type": "code",
   "execution_count": 39,
   "id": "2a012d2f",
   "metadata": {},
   "outputs": [
    {
     "data": {
      "text/plain": [
       "array([[ 0.64291254,  0.3542083 ],\n",
       "       [ 0.57928187, -1.12893182],\n",
       "       [-1.16066014,  0.72467857]])"
      ]
     },
     "execution_count": 39,
     "metadata": {},
     "output_type": "execute_result"
    }
   ],
   "source": [
    "model.cluster_centers_"
   ]
  },
  {
   "cell_type": "code",
   "execution_count": 38,
   "id": "b0b195d2",
   "metadata": {},
   "outputs": [
    {
     "data": {
      "text/plain": [
       "130.59757343196134"
      ]
     },
     "execution_count": 38,
     "metadata": {},
     "output_type": "execute_result"
    }
   ],
   "source": [
    "model.inertia_"
   ]
  },
  {
   "cell_type": "code",
   "execution_count": 40,
   "id": "ee58ab70",
   "metadata": {},
   "outputs": [
    {
     "data": {
      "text/plain": [
       "[399.9999999999998,\n",
       " 195.3683614347397,\n",
       " 130.59757343196134,\n",
       " 105.74208660853375,\n",
       " 87.7061192864045,\n",
       " 73.70117924859841,\n",
       " 64.22676429017821,\n",
       " 56.310485645579334,\n",
       " 49.97944821526047]"
      ]
     },
     "execution_count": 40,
     "metadata": {},
     "output_type": "execute_result"
    }
   ],
   "source": [
    "SEE = []\n",
    "for k in range(1,10):\n",
    "    model = KMeans(n_clusters=k,init=\"random\",random_state=12)\n",
    "    model.fit(scaled_data)\n",
    "    SEE.append(model.inertia_)\n",
    "SEE"
   ]
  },
  {
   "cell_type": "code",
   "execution_count": 41,
   "id": "a6fd7e49",
   "metadata": {},
   "outputs": [
    {
     "data": {
      "image/png": "[encoded data removed]",
      "text/plain": [
       "<Figure size 432x288 with 1 Axes>"
      ]
     },
     "metadata": {
      "needs_background": "light"
     },
     "output_type": "display_data"
    }
   ],
   "source": [
    "sns.lineplot(range(1,10),SEE)\n",
    "plt.xlabel(\"no of cluster (K)\")\n",
    "plt.ylabel(\"SEE values\")\n",
    "plt.grid()"
   ]
  },
  {
   "cell_type": "code",
   "execution_count": 42,
   "id": "ba8b4e34",
   "metadata": {},
   "outputs": [
    {
     "data": {
      "text/plain": [
       "0.35028467789010576"
      ]
     },
     "execution_count": 42,
     "metadata": {},
     "output_type": "execute_result"
    }
   ],
   "source": [
    "silhouette_score(scaled_data,model.labels_,metric=\"euclidean\")\n"
   ]
  },
  {
   "cell_type": "code",
   "execution_count": 43,
   "id": "2cf7d455",
   "metadata": {},
   "outputs": [
    {
     "data": {
      "text/plain": [
       "[0.45680192238116535,\n",
       " 0.40125022600065685,\n",
       " 0.3872657839837615,\n",
       " 0.37398632407019866,\n",
       " 0.352089238433011,\n",
       " 0.36798483036418406,\n",
       " 0.35531452812483466,\n",
       " 0.35028467789010576]"
      ]
     },
     "execution_count": 43,
     "metadata": {},
     "output_type": "execute_result"
    }
   ],
   "source": [
    "SC = []\n",
    "for k in range(2,10):\n",
    "    model = KMeans(n_clusters=k,init=\"random\",random_state=12)\n",
    "    model.fit(scaled_data)\n",
    "    score=silhouette_score(scaled_data,model.labels_,metric=\"euclidean\") \n",
    "    SC.append(score)\n",
    "SC\n",
    "    "
   ]
  },
  {
   "cell_type": "code",
   "execution_count": 45,
   "id": "c72f8061",
   "metadata": {},
   "outputs": [
    {
     "data": {
      "image/png": "[encoded data removed]",
      "text/plain": [
       "<Figure size 432x288 with 1 Axes>"
      ]
     },
     "metadata": {
      "needs_background": "light"
     },
     "output_type": "display_data"
    }
   ],
   "source": []
  },
  {
   "cell_type": "code",
   "execution_count": null,
   "id": "36a91a8e",
   "metadata": {},
   "outputs": [],
   "source": []
  }
 ],
 "metadata": {
  "kernelspec": {
   "display_name": "Python 3 (ipykernel)",
   "language": "python",
   "name": "python3"
  },
  "language_info": {
   "codemirror_mode": {
    "name": "ipython",
    "version": 3
   },
   "file_extension": ".py",
   "mimetype": "text/x-python",
   "name": "python",
   "nbconvert_exporter": "python",
   "pygments_lexer": "ipython3",
   "version": "3.9.7"
  }
 },
 "nbformat": 4,
 "nbformat_minor": 5
}
